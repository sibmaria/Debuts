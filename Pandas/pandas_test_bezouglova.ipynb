{
 "cells": [
  {
   "cell_type": "markdown",
   "metadata": {},
   "source": [
    "### <center> Pandas test </center>\n",
    "Прочитайте данные из файла **`pandas_test.csv`** \n",
    "\n",
    "Для каждого уникального **`id`** оставьте только одну строку с самой поздней датой. \n",
    "\n",
    "Для полученной таблицы подсчитайте:\n",
    "\n",
    "    а) сколько в каждом городе было уникальных id;\n",
    "    b) сколько id содержится в каждом множестве городов.\n",
    "\n",
    "Порядок вывода не важен."
   ]
  },
  {
   "cell_type": "markdown",
   "metadata": {},
   "source": [
    "Пример:\n",
    "\n",
    "city, id\n",
    "\n",
    "\"Moscow, Sochi\", 1\n",
    "\n",
    "\"Sochi, Moscow\", 2\n",
    "\n",
    "\"Moscow\", 3\n",
    "\n",
    "    a) Sochi - 2\n",
    "       Moscow - 3\n",
    "\n",
    "    b) Sochi, Moscow - 2\n",
    "       Moscow - 1"
   ]
  },
  {
   "cell_type": "code",
   "execution_count": 1,
   "metadata": {},
   "outputs": [
    {
     "name": "stdout",
     "output_type": "stream",
     "text": [
      "Python 3.6.6\n"
     ]
    }
   ],
   "source": [
    "!python --version"
   ]
  },
  {
   "cell_type": "code",
   "execution_count": 2,
   "metadata": {},
   "outputs": [],
   "source": [
    "import pandas as pd"
   ]
  },
  {
   "cell_type": "code",
   "execution_count": 3,
   "metadata": {},
   "outputs": [],
   "source": [
    "df = pd.read_csv('pandas_test.csv')"
   ]
  },
  {
   "cell_type": "code",
   "execution_count": 4,
   "metadata": {},
   "outputs": [
    {
     "data": {
      "text/plain": [
       "(1000, 3)"
      ]
     },
     "execution_count": 4,
     "metadata": {},
     "output_type": "execute_result"
    }
   ],
   "source": [
    "df.shape"
   ]
  },
  {
   "cell_type": "code",
   "execution_count": 5,
   "metadata": {},
   "outputs": [
    {
     "data": {
      "text/html": [
       "<div>\n",
       "<style scoped>\n",
       "    .dataframe tbody tr th:only-of-type {\n",
       "        vertical-align: middle;\n",
       "    }\n",
       "\n",
       "    .dataframe tbody tr th {\n",
       "        vertical-align: top;\n",
       "    }\n",
       "\n",
       "    .dataframe thead th {\n",
       "        text-align: right;\n",
       "    }\n",
       "</style>\n",
       "<table border=\"1\" class=\"dataframe\">\n",
       "  <thead>\n",
       "    <tr style=\"text-align: right;\">\n",
       "      <th></th>\n",
       "      <th>city</th>\n",
       "      <th>date</th>\n",
       "      <th>id</th>\n",
       "    </tr>\n",
       "  </thead>\n",
       "  <tbody>\n",
       "    <tr>\n",
       "      <th>0</th>\n",
       "      <td>Kazan, St-Petersburg, Sochi</td>\n",
       "      <td>2014-10-06 03:16:18</td>\n",
       "      <td>49</td>\n",
       "    </tr>\n",
       "    <tr>\n",
       "      <th>1</th>\n",
       "      <td>Moscow, Kazan</td>\n",
       "      <td>2013-01-04 09:44:04</td>\n",
       "      <td>252</td>\n",
       "    </tr>\n",
       "    <tr>\n",
       "      <th>2</th>\n",
       "      <td>Kazan, Moscow</td>\n",
       "      <td>2013-12-04 11:39:03</td>\n",
       "      <td>208</td>\n",
       "    </tr>\n",
       "    <tr>\n",
       "      <th>3</th>\n",
       "      <td>St-Petersburg, Kazan</td>\n",
       "      <td>2014-09-04 10:09:53</td>\n",
       "      <td>81</td>\n",
       "    </tr>\n",
       "    <tr>\n",
       "      <th>4</th>\n",
       "      <td>St-Petersburg, Moscow, Sochi</td>\n",
       "      <td>2014-09-25 02:04:14</td>\n",
       "      <td>109</td>\n",
       "    </tr>\n",
       "    <tr>\n",
       "      <th>5</th>\n",
       "      <td>Moscow, Sochi, St-Petersburg, Kazan</td>\n",
       "      <td>2014-02-24 09:30:03</td>\n",
       "      <td>27</td>\n",
       "    </tr>\n",
       "    <tr>\n",
       "      <th>6</th>\n",
       "      <td>Moscow, St-Petersburg, Sochi, Kazan</td>\n",
       "      <td>2014-09-20 18:31:50</td>\n",
       "      <td>3</td>\n",
       "    </tr>\n",
       "  </tbody>\n",
       "</table>\n",
       "</div>"
      ],
      "text/plain": [
       "                                  city                 date   id\n",
       "0          Kazan, St-Petersburg, Sochi  2014-10-06 03:16:18   49\n",
       "1                        Moscow, Kazan  2013-01-04 09:44:04  252\n",
       "2                        Kazan, Moscow  2013-12-04 11:39:03  208\n",
       "3                 St-Petersburg, Kazan  2014-09-04 10:09:53   81\n",
       "4         St-Petersburg, Moscow, Sochi  2014-09-25 02:04:14  109\n",
       "5  Moscow, Sochi, St-Petersburg, Kazan  2014-02-24 09:30:03   27\n",
       "6  Moscow, St-Petersburg, Sochi, Kazan  2014-09-20 18:31:50    3"
      ]
     },
     "execution_count": 5,
     "metadata": {},
     "output_type": "execute_result"
    }
   ],
   "source": [
    "df.head(7)"
   ]
  },
  {
   "cell_type": "code",
   "execution_count": 6,
   "metadata": {},
   "outputs": [
    {
     "name": "stdout",
     "output_type": "stream",
     "text": [
      "<class 'pandas.core.frame.DataFrame'>\n",
      "RangeIndex: 1000 entries, 0 to 999\n",
      "Data columns (total 3 columns):\n",
      "city    805 non-null object\n",
      "date    1000 non-null object\n",
      "id      1000 non-null int64\n",
      "dtypes: int64(1), object(2)\n",
      "memory usage: 23.5+ KB\n"
     ]
    }
   ],
   "source": [
    "df.info()"
   ]
  },
  {
   "cell_type": "markdown",
   "metadata": {},
   "source": [
    "Сразу замечаем, что в столбце **`city`** присутствуют пропуски. \n",
    "\n",
    "Т.к. другие ячейки в строках с пропущенными городами заполнены, то, чтобы не терять информацию, заполним пропуски некоторым обобщённым значением города, например строкой **`Unknown_city`**."
   ]
  },
  {
   "cell_type": "code",
   "execution_count": 7,
   "metadata": {},
   "outputs": [],
   "source": [
    "df.city.fillna('Unknown_city', inplace=True)"
   ]
  },
  {
   "cell_type": "code",
   "execution_count": 8,
   "metadata": {},
   "outputs": [
    {
     "name": "stdout",
     "output_type": "stream",
     "text": [
      "<class 'pandas.core.frame.DataFrame'>\n",
      "RangeIndex: 1000 entries, 0 to 999\n",
      "Data columns (total 3 columns):\n",
      "city    1000 non-null object\n",
      "date    1000 non-null object\n",
      "id      1000 non-null int64\n",
      "dtypes: int64(1), object(2)\n",
      "memory usage: 23.5+ KB\n"
     ]
    }
   ],
   "source": [
    "df.info()"
   ]
  },
  {
   "cell_type": "code",
   "execution_count": 9,
   "metadata": {},
   "outputs": [
    {
     "data": {
      "text/plain": [
       "0"
      ]
     },
     "execution_count": 9,
     "metadata": {},
     "output_type": "execute_result"
    }
   ],
   "source": [
    "# Проверка дубликатов в данных\n",
    "(df.duplicated() == True).sum()"
   ]
  },
  {
   "cell_type": "code",
   "execution_count": 10,
   "metadata": {},
   "outputs": [],
   "source": [
    "# Сортировка данных по датам и последующая группировка по id\n",
    "df_groupped = df.sort_values('date').groupby('id')"
   ]
  },
  {
   "cell_type": "code",
   "execution_count": 11,
   "metadata": {},
   "outputs": [
    {
     "data": {
      "text/plain": [
       "291"
      ]
     },
     "execution_count": 11,
     "metadata": {},
     "output_type": "execute_result"
    }
   ],
   "source": [
    "df.id.nunique()"
   ]
  },
  {
   "cell_type": "code",
   "execution_count": 12,
   "metadata": {},
   "outputs": [
    {
     "data": {
      "text/plain": [
       "291"
      ]
     },
     "execution_count": 12,
     "metadata": {},
     "output_type": "execute_result"
    }
   ],
   "source": [
    "# Проверка корректности группировки (совпадения числа различных id и числа полученных групп)\n",
    "df_groupped.ngroups"
   ]
  },
  {
   "cell_type": "code",
   "execution_count": 13,
   "metadata": {},
   "outputs": [
    {
     "data": {
      "text/plain": [
       "id\n",
       "289    2\n",
       "290    1\n",
       "291    5\n",
       "292    6\n",
       "293    1\n",
       "294    5\n",
       "295    4\n",
       "296    4\n",
       "297    5\n",
       "299    2\n",
       "dtype: int64"
      ]
     },
     "execution_count": 13,
     "metadata": {},
     "output_type": "execute_result"
    }
   ],
   "source": [
    "df_groupped.size()[-10:]"
   ]
  },
  {
   "cell_type": "code",
   "execution_count": 14,
   "metadata": {},
   "outputs": [
    {
     "data": {
      "text/html": [
       "<div>\n",
       "<style scoped>\n",
       "    .dataframe tbody tr th:only-of-type {\n",
       "        vertical-align: middle;\n",
       "    }\n",
       "\n",
       "    .dataframe tbody tr th {\n",
       "        vertical-align: top;\n",
       "    }\n",
       "\n",
       "    .dataframe thead th {\n",
       "        text-align: right;\n",
       "    }\n",
       "</style>\n",
       "<table border=\"1\" class=\"dataframe\">\n",
       "  <thead>\n",
       "    <tr style=\"text-align: right;\">\n",
       "      <th></th>\n",
       "      <th>city</th>\n",
       "      <th>date</th>\n",
       "    </tr>\n",
       "    <tr>\n",
       "      <th>id</th>\n",
       "      <th></th>\n",
       "      <th></th>\n",
       "    </tr>\n",
       "  </thead>\n",
       "  <tbody>\n",
       "    <tr>\n",
       "      <th>0</th>\n",
       "      <td>Kazan, Moscow, St-Petersburg</td>\n",
       "      <td>2014-10-06 20:58:34</td>\n",
       "    </tr>\n",
       "    <tr>\n",
       "      <th>1</th>\n",
       "      <td>St-Petersburg, Moscow, Sochi, Kazan</td>\n",
       "      <td>2014-11-04 11:53:27</td>\n",
       "    </tr>\n",
       "    <tr>\n",
       "      <th>2</th>\n",
       "      <td>Moscow, Kazan, St-Petersburg, Sochi</td>\n",
       "      <td>2014-07-02 02:04:42</td>\n",
       "    </tr>\n",
       "    <tr>\n",
       "      <th>3</th>\n",
       "      <td>Moscow, Sochi</td>\n",
       "      <td>2014-10-31 13:06:28</td>\n",
       "    </tr>\n",
       "    <tr>\n",
       "      <th>4</th>\n",
       "      <td>Kazan, Moscow, Sochi, St-Petersburg</td>\n",
       "      <td>2013-06-10 22:25:47</td>\n",
       "    </tr>\n",
       "    <tr>\n",
       "      <th>5</th>\n",
       "      <td>Kazan, Sochi, Moscow</td>\n",
       "      <td>2013-03-23 11:45:54</td>\n",
       "    </tr>\n",
       "    <tr>\n",
       "      <th>6</th>\n",
       "      <td>St-Petersburg, Sochi, Moscow</td>\n",
       "      <td>2014-02-06 23:17:13</td>\n",
       "    </tr>\n",
       "    <tr>\n",
       "      <th>7</th>\n",
       "      <td>Sochi, St-Petersburg</td>\n",
       "      <td>2013-10-01 10:10:24</td>\n",
       "    </tr>\n",
       "    <tr>\n",
       "      <th>8</th>\n",
       "      <td>Kazan</td>\n",
       "      <td>2014-04-30 04:47:09</td>\n",
       "    </tr>\n",
       "    <tr>\n",
       "      <th>9</th>\n",
       "      <td>Moscow, Sochi, St-Petersburg</td>\n",
       "      <td>2013-11-07 11:38:20</td>\n",
       "    </tr>\n",
       "    <tr>\n",
       "      <th>10</th>\n",
       "      <td>Sochi, St-Petersburg, Kazan, Moscow</td>\n",
       "      <td>2014-02-14 06:05:59</td>\n",
       "    </tr>\n",
       "    <tr>\n",
       "      <th>11</th>\n",
       "      <td>Kazan, St-Petersburg, Sochi, Moscow</td>\n",
       "      <td>2014-04-10 02:42:49</td>\n",
       "    </tr>\n",
       "    <tr>\n",
       "      <th>12</th>\n",
       "      <td>Sochi, Moscow, Kazan, St-Petersburg</td>\n",
       "      <td>2014-11-26 20:41:01</td>\n",
       "    </tr>\n",
       "    <tr>\n",
       "      <th>13</th>\n",
       "      <td>St-Petersburg</td>\n",
       "      <td>2013-08-02 12:06:49</td>\n",
       "    </tr>\n",
       "    <tr>\n",
       "      <th>14</th>\n",
       "      <td>Unknown_city</td>\n",
       "      <td>2013-12-02 09:04:23</td>\n",
       "    </tr>\n",
       "  </tbody>\n",
       "</table>\n",
       "</div>"
      ],
      "text/plain": [
       "                                   city                 date\n",
       "id                                                          \n",
       "0          Kazan, Moscow, St-Petersburg  2014-10-06 20:58:34\n",
       "1   St-Petersburg, Moscow, Sochi, Kazan  2014-11-04 11:53:27\n",
       "2   Moscow, Kazan, St-Petersburg, Sochi  2014-07-02 02:04:42\n",
       "3                         Moscow, Sochi  2014-10-31 13:06:28\n",
       "4   Kazan, Moscow, Sochi, St-Petersburg  2013-06-10 22:25:47\n",
       "5                  Kazan, Sochi, Moscow  2013-03-23 11:45:54\n",
       "6          St-Petersburg, Sochi, Moscow  2014-02-06 23:17:13\n",
       "7                  Sochi, St-Petersburg  2013-10-01 10:10:24\n",
       "8                                 Kazan  2014-04-30 04:47:09\n",
       "9          Moscow, Sochi, St-Petersburg  2013-11-07 11:38:20\n",
       "10  Sochi, St-Petersburg, Kazan, Moscow  2014-02-14 06:05:59\n",
       "11  Kazan, St-Petersburg, Sochi, Moscow  2014-04-10 02:42:49\n",
       "12  Sochi, Moscow, Kazan, St-Petersburg  2014-11-26 20:41:01\n",
       "13                        St-Petersburg  2013-08-02 12:06:49\n",
       "14                         Unknown_city  2013-12-02 09:04:23"
      ]
     },
     "execution_count": 14,
     "metadata": {},
     "output_type": "execute_result"
    }
   ],
   "source": [
    "# Для каждого уникального id оставлена только одна строка с самой поздней датой\n",
    "df_selected = df_groupped.nth(-1)\n",
    "df_selected.head(15)"
   ]
  },
  {
   "cell_type": "code",
   "execution_count": 15,
   "metadata": {},
   "outputs": [
    {
     "data": {
      "text/plain": [
       "291"
      ]
     },
     "execution_count": 15,
     "metadata": {},
     "output_type": "execute_result"
    }
   ],
   "source": [
    "# Проверка корректности отбора данных: \n",
    "# количество отобранных записей должно совпадать с числом уникальных id\n",
    "len(df_selected)"
   ]
  },
  {
   "cell_type": "markdown",
   "metadata": {},
   "source": [
    "### а) сколько в каждом городе было уникальных id?"
   ]
  },
  {
   "cell_type": "code",
   "execution_count": 16,
   "metadata": {
    "scrolled": true
   },
   "outputs": [
    {
     "data": {
      "text/html": [
       "<div>\n",
       "<style scoped>\n",
       "    .dataframe tbody tr th:only-of-type {\n",
       "        vertical-align: middle;\n",
       "    }\n",
       "\n",
       "    .dataframe tbody tr th {\n",
       "        vertical-align: top;\n",
       "    }\n",
       "\n",
       "    .dataframe thead th {\n",
       "        text-align: right;\n",
       "    }\n",
       "</style>\n",
       "<table border=\"1\" class=\"dataframe\">\n",
       "  <thead>\n",
       "    <tr style=\"text-align: right;\">\n",
       "      <th></th>\n",
       "      <th>0</th>\n",
       "      <th>1</th>\n",
       "      <th>2</th>\n",
       "      <th>3</th>\n",
       "    </tr>\n",
       "    <tr>\n",
       "      <th>id</th>\n",
       "      <th></th>\n",
       "      <th></th>\n",
       "      <th></th>\n",
       "      <th></th>\n",
       "    </tr>\n",
       "  </thead>\n",
       "  <tbody>\n",
       "    <tr>\n",
       "      <th>0</th>\n",
       "      <td>Kazan</td>\n",
       "      <td>Moscow</td>\n",
       "      <td>St-Petersburg</td>\n",
       "      <td>None</td>\n",
       "    </tr>\n",
       "    <tr>\n",
       "      <th>1</th>\n",
       "      <td>St-Petersburg</td>\n",
       "      <td>Moscow</td>\n",
       "      <td>Sochi</td>\n",
       "      <td>Kazan</td>\n",
       "    </tr>\n",
       "    <tr>\n",
       "      <th>2</th>\n",
       "      <td>Moscow</td>\n",
       "      <td>Kazan</td>\n",
       "      <td>St-Petersburg</td>\n",
       "      <td>Sochi</td>\n",
       "    </tr>\n",
       "    <tr>\n",
       "      <th>3</th>\n",
       "      <td>Moscow</td>\n",
       "      <td>Sochi</td>\n",
       "      <td>None</td>\n",
       "      <td>None</td>\n",
       "    </tr>\n",
       "    <tr>\n",
       "      <th>4</th>\n",
       "      <td>Kazan</td>\n",
       "      <td>Moscow</td>\n",
       "      <td>Sochi</td>\n",
       "      <td>St-Petersburg</td>\n",
       "    </tr>\n",
       "  </tbody>\n",
       "</table>\n",
       "</div>"
      ],
      "text/plain": [
       "                0       1              2              3\n",
       "id                                                     \n",
       "0           Kazan  Moscow  St-Petersburg           None\n",
       "1   St-Petersburg  Moscow          Sochi          Kazan\n",
       "2          Moscow   Kazan  St-Petersburg          Sochi\n",
       "3          Moscow   Sochi           None           None\n",
       "4           Kazan  Moscow          Sochi  St-Petersburg"
      ]
     },
     "execution_count": 16,
     "metadata": {},
     "output_type": "execute_result"
    }
   ],
   "source": [
    "# В отобранных записях отделим города друг от друга\n",
    "df_cities = df_selected['city'].str.split(expand=True).applymap(lambda x: x.rstrip(',') if x else x)\n",
    "df_cities.head()"
   ]
  },
  {
   "cell_type": "code",
   "execution_count": 17,
   "metadata": {
    "scrolled": true
   },
   "outputs": [
    {
     "data": {
      "text/plain": [
       "Kazan            163.0\n",
       "Moscow           163.0\n",
       "Sochi            166.0\n",
       "St-Petersburg    153.0\n",
       "Unknown_city      52.0\n",
       "dtype: float64"
      ]
     },
     "execution_count": 17,
     "metadata": {},
     "output_type": "execute_result"
    }
   ],
   "source": [
    "# Ответ на вопрос а)\n",
    "\n",
    "df_cities.apply(lambda x: x.value_counts()).sum(axis=1)"
   ]
  },
  {
   "cell_type": "markdown",
   "metadata": {},
   "source": [
    "### b) сколько id содержится в каждом множестве городов?"
   ]
  },
  {
   "cell_type": "code",
   "execution_count": 18,
   "metadata": {
    "scrolled": false
   },
   "outputs": [
    {
     "data": {
      "text/html": [
       "<div>\n",
       "<style scoped>\n",
       "    .dataframe tbody tr th:only-of-type {\n",
       "        vertical-align: middle;\n",
       "    }\n",
       "\n",
       "    .dataframe tbody tr th {\n",
       "        vertical-align: top;\n",
       "    }\n",
       "\n",
       "    .dataframe thead th {\n",
       "        text-align: right;\n",
       "    }\n",
       "</style>\n",
       "<table border=\"1\" class=\"dataframe\">\n",
       "  <thead>\n",
       "    <tr style=\"text-align: right;\">\n",
       "      <th></th>\n",
       "      <th>city</th>\n",
       "      <th>date</th>\n",
       "    </tr>\n",
       "    <tr>\n",
       "      <th>id</th>\n",
       "      <th></th>\n",
       "      <th></th>\n",
       "    </tr>\n",
       "  </thead>\n",
       "  <tbody>\n",
       "    <tr>\n",
       "      <th>0</th>\n",
       "      <td>Kazan, Moscow, St-Petersburg</td>\n",
       "      <td>2014-10-06 20:58:34</td>\n",
       "    </tr>\n",
       "    <tr>\n",
       "      <th>1</th>\n",
       "      <td>St-Petersburg, Moscow, Sochi, Kazan</td>\n",
       "      <td>2014-11-04 11:53:27</td>\n",
       "    </tr>\n",
       "    <tr>\n",
       "      <th>2</th>\n",
       "      <td>Moscow, Kazan, St-Petersburg, Sochi</td>\n",
       "      <td>2014-07-02 02:04:42</td>\n",
       "    </tr>\n",
       "    <tr>\n",
       "      <th>3</th>\n",
       "      <td>Moscow, Sochi</td>\n",
       "      <td>2014-10-31 13:06:28</td>\n",
       "    </tr>\n",
       "    <tr>\n",
       "      <th>4</th>\n",
       "      <td>Kazan, Moscow, Sochi, St-Petersburg</td>\n",
       "      <td>2013-06-10 22:25:47</td>\n",
       "    </tr>\n",
       "    <tr>\n",
       "      <th>5</th>\n",
       "      <td>Kazan, Sochi, Moscow</td>\n",
       "      <td>2013-03-23 11:45:54</td>\n",
       "    </tr>\n",
       "    <tr>\n",
       "      <th>6</th>\n",
       "      <td>St-Petersburg, Sochi, Moscow</td>\n",
       "      <td>2014-02-06 23:17:13</td>\n",
       "    </tr>\n",
       "  </tbody>\n",
       "</table>\n",
       "</div>"
      ],
      "text/plain": [
       "                                   city                 date\n",
       "id                                                          \n",
       "0          Kazan, Moscow, St-Petersburg  2014-10-06 20:58:34\n",
       "1   St-Petersburg, Moscow, Sochi, Kazan  2014-11-04 11:53:27\n",
       "2   Moscow, Kazan, St-Petersburg, Sochi  2014-07-02 02:04:42\n",
       "3                         Moscow, Sochi  2014-10-31 13:06:28\n",
       "4   Kazan, Moscow, Sochi, St-Petersburg  2013-06-10 22:25:47\n",
       "5                  Kazan, Sochi, Moscow  2013-03-23 11:45:54\n",
       "6          St-Petersburg, Sochi, Moscow  2014-02-06 23:17:13"
      ]
     },
     "execution_count": 18,
     "metadata": {},
     "output_type": "execute_result"
    }
   ],
   "source": [
    "df_selected.head(7)"
   ]
  },
  {
   "cell_type": "code",
   "execution_count": 19,
   "metadata": {},
   "outputs": [
    {
     "data": {
      "text/plain": [
       "['Kazan', 'Moscow', 'Sochi', 'St-Petersburg']    70\n",
       "['Unknown_city']                                 52\n",
       "['Kazan', 'Moscow', 'Sochi']                     29\n",
       "['Moscow', 'Sochi', 'St-Petersburg']             18\n",
       "['Kazan', 'Moscow', 'St-Petersburg']             16\n",
       "['St-Petersburg']                                15\n",
       "['Sochi']                                        15\n",
       "['Kazan']                                        12\n",
       "['Kazan', 'Sochi', 'St-Petersburg']              11\n",
       "['Kazan', 'Moscow']                              10\n",
       "['Moscow', 'Sochi']                               8\n",
       "['Sochi', 'St-Petersburg']                        8\n",
       "['Kazan', 'St-Petersburg']                        8\n",
       "['Moscow', 'St-Petersburg']                       7\n",
       "['Kazan', 'Sochi']                                7\n",
       "['Moscow']                                        5\n",
       "Name: city, dtype: int64"
      ]
     },
     "execution_count": 19,
     "metadata": {},
     "output_type": "execute_result"
    }
   ],
   "source": [
    "# Ответ на вопрос b)\n",
    "\n",
    "df_selected['city'].str.replace(',', '').str.split().apply(lambda x: sorted(x)).astype(str).value_counts()"
   ]
  }
 ],
 "metadata": {
  "kernelspec": {
   "display_name": "Python 3",
   "language": "python",
   "name": "python3"
  },
  "language_info": {
   "codemirror_mode": {
    "name": "ipython",
    "version": 3
   },
   "file_extension": ".py",
   "mimetype": "text/x-python",
   "name": "python",
   "nbconvert_exporter": "python",
   "pygments_lexer": "ipython3",
   "version": "3.6.6"
  }
 },
 "nbformat": 4,
 "nbformat_minor": 2
}
